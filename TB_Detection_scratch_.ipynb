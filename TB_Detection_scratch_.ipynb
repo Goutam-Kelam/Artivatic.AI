{
  "nbformat": 4,
  "nbformat_minor": 0,
  "metadata": {
    "colab": {
      "name": "TB_Detection_scratch_.ipynb",
      "version": "0.3.2",
      "provenance": [],
      "collapsed_sections": []
    },
    "kernelspec": {
      "name": "python3",
      "display_name": "Python 3"
    },
    "accelerator": "GPU"
  },
  "cells": [
    {
      "cell_type": "code",
      "metadata": {
        "id": "ttfMdvC_P-o4",
        "colab_type": "code",
        "colab": {
          "base_uri": "https://localhost:8080/",
          "height": 122
        },
        "outputId": "d93b8c5f-996e-45ab-e6bd-13ac12e4a4ef"
      },
      "source": [
        "from google.colab import drive\n",
        "drive.mount('/content/drive')"
      ],
      "execution_count": 1,
      "outputs": [
        {
          "output_type": "stream",
          "text": [
            "Go to this URL in a browser: https://accounts.google.com/o/oauth2/auth?client_id=947318989803-6bn6qk8qdgf4n4g3pfee6491hc0brc4i.apps.googleusercontent.com&redirect_uri=urn%3Aietf%3Awg%3Aoauth%3A2.0%3Aoob&scope=email%20https%3A%2F%2Fwww.googleapis.com%2Fauth%2Fdocs.test%20https%3A%2F%2Fwww.googleapis.com%2Fauth%2Fdrive%20https%3A%2F%2Fwww.googleapis.com%2Fauth%2Fdrive.photos.readonly%20https%3A%2F%2Fwww.googleapis.com%2Fauth%2Fpeopleapi.readonly&response_type=code\n",
            "\n",
            "Enter your authorization code:\n",
            "··········\n",
            "Mounted at /content/drive\n"
          ],
          "name": "stdout"
        }
      ]
    },
    {
      "cell_type": "code",
      "metadata": {
        "id": "K9b5vCCrOUnK",
        "colab_type": "code",
        "colab": {}
      },
      "source": [
        "import torch\n",
        "from torch.utils.data.dataset import Dataset\n",
        "import os, sys, random\n",
        "import numpy as np\n",
        "import torchvision\n",
        "from torchvision import transforms\n",
        "import PIL\n",
        "from PIL import Image\n",
        "from sklearn.metrics import classification_report\n",
        "import matplotlib.pyplot as plt"
      ],
      "execution_count": 0,
      "outputs": []
    },
    {
      "cell_type": "code",
      "metadata": {
        "id": "H_KCsu1zUj83",
        "colab_type": "code",
        "colab": {}
      },
      "source": [
        "# extract labels from filenane- 0:Normal, 1:Abnormal \n",
        "def get_label(filename):\n",
        "  return int(filename.split(\".png\")[0][-1])"
      ],
      "execution_count": 0,
      "outputs": []
    },
    {
      "cell_type": "code",
      "metadata": {
        "id": "95HrFE4CXDtW",
        "colab_type": "code",
        "colab": {}
      },
      "source": [
        "# Segregating Normal and Abnormal cases\n",
        "\n",
        "dataset_root = \"/content/drive/My Drive/ChinaSet_Dataset/CXR_png/\"\n",
        "filelist = os.listdir(dataset_root)\n",
        "filelist.sort()\n",
        "\n",
        "pos_ex = []\n",
        "neg_ex = []\n",
        "\n",
        "for file in filelist:\n",
        "  label = get_label(file)\n",
        "  if(label == 0):\n",
        "    pos_ex.append(file)\n",
        "  else:\n",
        "    neg_ex.append(file)\n"
      ],
      "execution_count": 0,
      "outputs": []
    },
    {
      "cell_type": "code",
      "metadata": {
        "id": "0CnLoXkTr3XU",
        "colab_type": "code",
        "outputId": "54aeada0-b7fe-4e15-a7c1-c5e90342d53e",
        "colab": {
          "base_uri": "https://localhost:8080/",
          "height": 68
        }
      },
      "source": [
        "print(\"Total No. of examples in the dataset {}\".format(len(filelist)))\n",
        "print(\"No. of Normal cases {}\".format(len(pos_ex)))\n",
        "print(\"No. of Abnormal cases {}\".format(len(neg_ex)))"
      ],
      "execution_count": 5,
      "outputs": [
        {
          "output_type": "stream",
          "text": [
            "Total No. of examples in the dataset 662\n",
            "No. of Normal cases 326\n",
            "No. of Abnormal cases 336\n"
          ],
          "name": "stdout"
        }
      ]
    },
    {
      "cell_type": "code",
      "metadata": {
        "id": "DP6V1s38tIQH",
        "colab_type": "code",
        "outputId": "4d7d32e2-cbfa-4d43-f239-d6ab4f75b42b",
        "colab": {
          "base_uri": "https://localhost:8080/",
          "height": 51
        }
      },
      "source": [
        "# Creating Test list\n",
        "# we will use 90% data to train and remaining 10% to test\n",
        "No_Test_ex = int(len(filelist)*0.1) # 66 samples for test\n",
        "\n",
        "# we will use 33 Normal and Abnormal samples respectively for testing\n",
        "# we could have randomly chosen 66 samples from the dataset but that would not \n",
        "# gaurantee sampling equal no. of positve and negative cases.\n",
        "test_pos_list = random.sample(pos_ex,int(No_Test_ex/2))\n",
        "test_neg_list = random.sample(neg_ex,int(No_Test_ex/2))\n",
        "\n",
        "test_list = test_pos_list + test_neg_list\n",
        "test_list.sort()\n",
        "print(\"Total No. of test examples {}\".format(len(test_list)))\n",
        "\n",
        "\n",
        "# Creating Train list\n",
        "train_list = []\n",
        "\n",
        "for file in filelist:\n",
        "  if(file not in test_list):\n",
        "    train_list.append(file)\n",
        "train_list.sort()    \n",
        "print(\"Total No. of train examples {}\".format(len(train_list)))"
      ],
      "execution_count": 6,
      "outputs": [
        {
          "output_type": "stream",
          "text": [
            "Total No. of test examples 66\n",
            "Total No. of train examples 596\n"
          ],
          "name": "stdout"
        }
      ]
    },
    {
      "cell_type": "code",
      "metadata": {
        "id": "Iqv65BzJvMw1",
        "colab_type": "code",
        "colab": {}
      },
      "source": [
        "# creating trainlist.txt and testlist.txt\n",
        "\n",
        "filetrain = open(\"/content/drive/My Drive/train_list.txt\",\"w+\")\n",
        "\n",
        "for file in train_list:\n",
        "  filetrain.write(file+\"\\n\")\n",
        "filetrain.close()\n",
        "\n",
        "filetest = open(\"/content/drive/My Drive/test_list.txt\",\"w+\")\n",
        "\n",
        "for file in test_list:\n",
        "  filetest.write(file+\"\\n\")\n",
        "filetest.close()"
      ],
      "execution_count": 0,
      "outputs": []
    },
    {
      "cell_type": "code",
      "metadata": {
        "id": "4TlxgwPQmpj5",
        "colab_type": "code",
        "colab": {}
      },
      "source": [
        "img_size = 128\n",
        "\n",
        "train_transform = transforms.Compose([\n",
        "    transforms.Grayscale(num_output_channels=1),\n",
        "    transforms.RandomHorizontalFlip(p=0.5),\n",
        "    transforms.Resize((img_size, img_size)),\n",
        "    transforms.ToTensor()\n",
        "])\n",
        "\n",
        "test_transform = transforms.Compose([\n",
        "    transforms.Grayscale(num_output_channels=1),\n",
        "    transforms.Resize((img_size, img_size)),\n",
        "    transforms.ToTensor()\n",
        "])"
      ],
      "execution_count": 0,
      "outputs": []
    },
    {
      "cell_type": "code",
      "metadata": {
        "id": "6bt_5eVLKOhe",
        "colab_type": "code",
        "colab": {}
      },
      "source": [
        "def default_list_reader(filelist):\n",
        "  imglist = []\n",
        "  with open(filelist,'r') as file:\n",
        "    for line in file.readlines():\n",
        "      imgname,_ = line.split(\"\\n\")\n",
        "      imglist.append(imgname)\n",
        "  imglist.sort()\n",
        "  return imglist"
      ],
      "execution_count": 0,
      "outputs": []
    },
    {
      "cell_type": "code",
      "metadata": {
        "id": "zNNKTDeMGU5x",
        "colab_type": "code",
        "colab": {}
      },
      "source": [
        "class My_Dataset(Dataset):\n",
        "  def __init__(self, root_dir, filelist = \" \", transform = transforms.ToTensor(), list_reader = default_list_reader):\n",
        "    self.root_dir = root_dir\n",
        "    self.img_names = list_reader(filelist)\n",
        "    self.labels = [get_label(img) for img in self.img_names]\n",
        "    self.transform = transform\n",
        "    \n",
        "  def __getitem__(self,index):\n",
        "    img = Image.open(self.root_dir+self.img_names[index])\n",
        "    img = self.transform(img)\n",
        "    return img,self.labels[index]\n",
        "  \n",
        "  def __len__(self):\n",
        "    return len(self.img_names)\n",
        "    \n",
        "    "
      ],
      "execution_count": 0,
      "outputs": []
    },
    {
      "cell_type": "code",
      "metadata": {
        "id": "xO_y3h3Xm11v",
        "colab_type": "code",
        "colab": {}
      },
      "source": [
        "dataset_root = \"/content/drive/My Drive/ChinaSet_Dataset/CXR_png/\"\n",
        "train_list_path = \"/content/drive/My Drive/train_list.txt\"\n",
        "test_list_path = \"/content/drive/My Drive/test_list.txt\"\n",
        "\n",
        "train_set = My_Dataset(root_dir=dataset_root, filelist = train_list_path, transform = train_transform)\n",
        "train_loader = torch.utils.data.DataLoader(dataset=train_set, batch_size=8, shuffle=True)\n",
        "\n",
        "test_set = My_Dataset(root_dir=dataset_root, filelist = test_list_path, transform = test_transform)\n",
        "test_loader = torch.utils.data.DataLoader(dataset=test_set, batch_size=8, shuffle=False)"
      ],
      "execution_count": 0,
      "outputs": []
    },
    {
      "cell_type": "code",
      "metadata": {
        "id": "qvZJM09WTLYN",
        "colab_type": "code",
        "colab": {}
      },
      "source": [
        "class net(torch.nn.Module):\n",
        "    def __init__(self):\n",
        "        super(net, self).__init__()\n",
        "        self.C1 = torch.nn.Conv2d(in_channels=1, out_channels=3, kernel_size=3, padding=1, stride=1)\n",
        "        self.model_ft = torchvision.models.resnet18()\n",
        "        self.model_ft.avgpool = torch.nn.AvgPool2d(kernel_size=4, padding=0, stride=2)\n",
        "        self.model_ft.fc = torch.nn.Sequential(\n",
        "            torch.nn.Linear(512,256),\n",
        "            torch.nn.Linear(256,2)\n",
        "        )\n",
        "        \n",
        "    def forward(self, x):\n",
        "        y = self.C1(x)\n",
        "        for _, layer in enumerate(list(self.model_ft.children())[:9]):\n",
        "            y = layer(y)\n",
        "        y = y.squeeze(-1).squeeze(-1)\n",
        "        y = list(self.model_ft.children())[-1](y)\n",
        "        return y"
      ],
      "execution_count": 0,
      "outputs": []
    },
    {
      "cell_type": "code",
      "metadata": {
        "id": "zioeBAvQ5oAk",
        "colab_type": "code",
        "colab": {}
      },
      "source": [
        "n_epochs = 50\n",
        "\n",
        "device = torch.device('cuda' if torch.cuda.is_available() else 'cpu')\n",
        "Model = net().to(device)\n",
        "\n",
        "optimizer = torch.optim.Adam(Model.parameters(), lr=6e-4, weight_decay=1e-2)\n",
        "exp_lr_scheduler = torch.optim.lr_scheduler.CosineAnnealingLR(optimizer, n_epochs)\n",
        "criterion = torch.nn.CrossEntropyLoss()\n"
      ],
      "execution_count": 0,
      "outputs": []
    },
    {
      "cell_type": "code",
      "metadata": {
        "id": "s6gsWAjn5_0W",
        "colab_type": "code",
        "outputId": "f98583a9-510d-4ed0-ffc7-d70f1c3f9df9",
        "colab": {
          "base_uri": "https://localhost:8080/",
          "height": 1000
        }
      },
      "source": [
        "Model"
      ],
      "execution_count": 14,
      "outputs": [
        {
          "output_type": "execute_result",
          "data": {
            "text/plain": [
              "net(\n",
              "  (C1): Conv2d(1, 3, kernel_size=(3, 3), stride=(1, 1), padding=(1, 1))\n",
              "  (model_ft): ResNet(\n",
              "    (conv1): Conv2d(3, 64, kernel_size=(7, 7), stride=(2, 2), padding=(3, 3), bias=False)\n",
              "    (bn1): BatchNorm2d(64, eps=1e-05, momentum=0.1, affine=True, track_running_stats=True)\n",
              "    (relu): ReLU(inplace)\n",
              "    (maxpool): MaxPool2d(kernel_size=3, stride=2, padding=1, dilation=1, ceil_mode=False)\n",
              "    (layer1): Sequential(\n",
              "      (0): BasicBlock(\n",
              "        (conv1): Conv2d(64, 64, kernel_size=(3, 3), stride=(1, 1), padding=(1, 1), bias=False)\n",
              "        (bn1): BatchNorm2d(64, eps=1e-05, momentum=0.1, affine=True, track_running_stats=True)\n",
              "        (relu): ReLU(inplace)\n",
              "        (conv2): Conv2d(64, 64, kernel_size=(3, 3), stride=(1, 1), padding=(1, 1), bias=False)\n",
              "        (bn2): BatchNorm2d(64, eps=1e-05, momentum=0.1, affine=True, track_running_stats=True)\n",
              "      )\n",
              "      (1): BasicBlock(\n",
              "        (conv1): Conv2d(64, 64, kernel_size=(3, 3), stride=(1, 1), padding=(1, 1), bias=False)\n",
              "        (bn1): BatchNorm2d(64, eps=1e-05, momentum=0.1, affine=True, track_running_stats=True)\n",
              "        (relu): ReLU(inplace)\n",
              "        (conv2): Conv2d(64, 64, kernel_size=(3, 3), stride=(1, 1), padding=(1, 1), bias=False)\n",
              "        (bn2): BatchNorm2d(64, eps=1e-05, momentum=0.1, affine=True, track_running_stats=True)\n",
              "      )\n",
              "    )\n",
              "    (layer2): Sequential(\n",
              "      (0): BasicBlock(\n",
              "        (conv1): Conv2d(64, 128, kernel_size=(3, 3), stride=(2, 2), padding=(1, 1), bias=False)\n",
              "        (bn1): BatchNorm2d(128, eps=1e-05, momentum=0.1, affine=True, track_running_stats=True)\n",
              "        (relu): ReLU(inplace)\n",
              "        (conv2): Conv2d(128, 128, kernel_size=(3, 3), stride=(1, 1), padding=(1, 1), bias=False)\n",
              "        (bn2): BatchNorm2d(128, eps=1e-05, momentum=0.1, affine=True, track_running_stats=True)\n",
              "        (downsample): Sequential(\n",
              "          (0): Conv2d(64, 128, kernel_size=(1, 1), stride=(2, 2), bias=False)\n",
              "          (1): BatchNorm2d(128, eps=1e-05, momentum=0.1, affine=True, track_running_stats=True)\n",
              "        )\n",
              "      )\n",
              "      (1): BasicBlock(\n",
              "        (conv1): Conv2d(128, 128, kernel_size=(3, 3), stride=(1, 1), padding=(1, 1), bias=False)\n",
              "        (bn1): BatchNorm2d(128, eps=1e-05, momentum=0.1, affine=True, track_running_stats=True)\n",
              "        (relu): ReLU(inplace)\n",
              "        (conv2): Conv2d(128, 128, kernel_size=(3, 3), stride=(1, 1), padding=(1, 1), bias=False)\n",
              "        (bn2): BatchNorm2d(128, eps=1e-05, momentum=0.1, affine=True, track_running_stats=True)\n",
              "      )\n",
              "    )\n",
              "    (layer3): Sequential(\n",
              "      (0): BasicBlock(\n",
              "        (conv1): Conv2d(128, 256, kernel_size=(3, 3), stride=(2, 2), padding=(1, 1), bias=False)\n",
              "        (bn1): BatchNorm2d(256, eps=1e-05, momentum=0.1, affine=True, track_running_stats=True)\n",
              "        (relu): ReLU(inplace)\n",
              "        (conv2): Conv2d(256, 256, kernel_size=(3, 3), stride=(1, 1), padding=(1, 1), bias=False)\n",
              "        (bn2): BatchNorm2d(256, eps=1e-05, momentum=0.1, affine=True, track_running_stats=True)\n",
              "        (downsample): Sequential(\n",
              "          (0): Conv2d(128, 256, kernel_size=(1, 1), stride=(2, 2), bias=False)\n",
              "          (1): BatchNorm2d(256, eps=1e-05, momentum=0.1, affine=True, track_running_stats=True)\n",
              "        )\n",
              "      )\n",
              "      (1): BasicBlock(\n",
              "        (conv1): Conv2d(256, 256, kernel_size=(3, 3), stride=(1, 1), padding=(1, 1), bias=False)\n",
              "        (bn1): BatchNorm2d(256, eps=1e-05, momentum=0.1, affine=True, track_running_stats=True)\n",
              "        (relu): ReLU(inplace)\n",
              "        (conv2): Conv2d(256, 256, kernel_size=(3, 3), stride=(1, 1), padding=(1, 1), bias=False)\n",
              "        (bn2): BatchNorm2d(256, eps=1e-05, momentum=0.1, affine=True, track_running_stats=True)\n",
              "      )\n",
              "    )\n",
              "    (layer4): Sequential(\n",
              "      (0): BasicBlock(\n",
              "        (conv1): Conv2d(256, 512, kernel_size=(3, 3), stride=(2, 2), padding=(1, 1), bias=False)\n",
              "        (bn1): BatchNorm2d(512, eps=1e-05, momentum=0.1, affine=True, track_running_stats=True)\n",
              "        (relu): ReLU(inplace)\n",
              "        (conv2): Conv2d(512, 512, kernel_size=(3, 3), stride=(1, 1), padding=(1, 1), bias=False)\n",
              "        (bn2): BatchNorm2d(512, eps=1e-05, momentum=0.1, affine=True, track_running_stats=True)\n",
              "        (downsample): Sequential(\n",
              "          (0): Conv2d(256, 512, kernel_size=(1, 1), stride=(2, 2), bias=False)\n",
              "          (1): BatchNorm2d(512, eps=1e-05, momentum=0.1, affine=True, track_running_stats=True)\n",
              "        )\n",
              "      )\n",
              "      (1): BasicBlock(\n",
              "        (conv1): Conv2d(512, 512, kernel_size=(3, 3), stride=(1, 1), padding=(1, 1), bias=False)\n",
              "        (bn1): BatchNorm2d(512, eps=1e-05, momentum=0.1, affine=True, track_running_stats=True)\n",
              "        (relu): ReLU(inplace)\n",
              "        (conv2): Conv2d(512, 512, kernel_size=(3, 3), stride=(1, 1), padding=(1, 1), bias=False)\n",
              "        (bn2): BatchNorm2d(512, eps=1e-05, momentum=0.1, affine=True, track_running_stats=True)\n",
              "      )\n",
              "    )\n",
              "    (avgpool): AvgPool2d(kernel_size=4, stride=2, padding=0)\n",
              "    (fc): Sequential(\n",
              "      (0): Linear(in_features=512, out_features=256, bias=True)\n",
              "      (1): Linear(in_features=256, out_features=2, bias=True)\n",
              "    )\n",
              "  )\n",
              ")"
            ]
          },
          "metadata": {
            "tags": []
          },
          "execution_count": 14
        }
      ]
    },
    {
      "cell_type": "code",
      "metadata": {
        "id": "iidd6ypw6GQV",
        "colab_type": "code",
        "colab": {}
      },
      "source": [
        "train_loss_track = []\n",
        "test_loss_track = []"
      ],
      "execution_count": 0,
      "outputs": []
    },
    {
      "cell_type": "code",
      "metadata": {
        "id": "ZKnI6KbB7xJa",
        "colab_type": "code",
        "colab": {
          "base_uri": "https://localhost:8080/",
          "height": 1000
        },
        "outputId": "f7dfdf50-f965-44d3-ba1b-3d7637e327f2"
      },
      "source": [
        "for eph in range(n_epochs):\n",
        "    print('epoch : {} ...'.format(eph))\n",
        "    n_correct = 0\n",
        "    avg_loss = 0\n",
        "    n_samples = 0\n",
        "    Model.train()\n",
        "    exp_lr_scheduler.step()\n",
        "    for idx, xy in enumerate(train_loader):\n",
        "        x, y = xy\n",
        "        x, y = x.to(device), y.to(device)\n",
        "        outputs = Model(x)\n",
        "        _, preds = torch.max(outputs, 1)\n",
        "        loss = criterion(outputs, y)\n",
        "        optimizer.zero_grad()\n",
        "        loss.backward()\n",
        "        optimizer.step()\n",
        "        \n",
        "        n_correct += torch.sum(preds.data == y.data)\n",
        "        avg_loss += loss.item()\n",
        "        n_samples += x.size(0)\n",
        "    avg_loss = avg_loss/n_samples\n",
        "    train_loss_track.append(avg_loss)\n",
        "    print('train avg loss : ', avg_loss)\n",
        "    print('num of correct samples : {}/{}'.format(n_correct, n_samples))\n",
        "    \n",
        "    n_correct = 0\n",
        "    avg_loss = 0\n",
        "    n_samples = 0\n",
        "    gt_labels = []\n",
        "    pred_labels = []\n",
        "    Model.eval()\n",
        "    for idx, xy in enumerate(test_loader):\n",
        "        x, y = xy\n",
        "        x, y = x.cuda(), y.cuda()\n",
        "        outputs = Model(x)\n",
        "        _, preds = torch.max(outputs, 1)\n",
        "        loss = criterion(outputs, y)\n",
        "        \n",
        "        n_correct += torch.sum(preds.data == y.data)\n",
        "        gt_labels += list(y.data.cpu().numpy())\n",
        "        pred_labels += list(preds.data.cpu().numpy())\n",
        "        avg_loss += loss.item()\n",
        "        n_samples += x.size(0)\n",
        "    avg_loss = avg_loss/n_samples\n",
        "    test_loss_track.append(avg_loss)\n",
        "    print('test avg loss : ', avg_loss)\n",
        "    print('num of correct samples : {}/{}'.format(n_correct, n_samples))"
      ],
      "execution_count": 16,
      "outputs": [
        {
          "output_type": "stream",
          "text": [
            "epoch : 0 ...\n",
            "train avg loss :  0.07729496471833863\n",
            "num of correct samples : 434/596\n",
            "test avg loss :  0.09654086737921744\n",
            "num of correct samples : 51/66\n",
            "epoch : 1 ...\n",
            "train avg loss :  0.06803144787081936\n",
            "num of correct samples : 447/596\n",
            "test avg loss :  0.06551063467155803\n",
            "num of correct samples : 54/66\n",
            "epoch : 2 ...\n",
            "train avg loss :  0.06564438993098752\n",
            "num of correct samples : 440/596\n",
            "test avg loss :  0.11421398186322415\n",
            "num of correct samples : 41/66\n",
            "epoch : 3 ...\n",
            "train avg loss :  0.06634245665381419\n",
            "num of correct samples : 443/596\n",
            "test avg loss :  0.07836960346409769\n",
            "num of correct samples : 45/66\n",
            "epoch : 4 ...\n",
            "train avg loss :  0.06912364725698561\n",
            "num of correct samples : 448/596\n",
            "test avg loss :  0.09513232134508365\n",
            "num of correct samples : 36/66\n",
            "epoch : 5 ...\n",
            "train avg loss :  0.06558470332982556\n",
            "num of correct samples : 441/596\n",
            "test avg loss :  0.06807676115722368\n",
            "num of correct samples : 52/66\n",
            "epoch : 6 ...\n",
            "train avg loss :  0.06585026137380792\n",
            "num of correct samples : 453/596\n",
            "test avg loss :  0.0675084667675423\n",
            "num of correct samples : 51/66\n",
            "epoch : 7 ...\n",
            "train avg loss :  0.06461927879776731\n",
            "num of correct samples : 472/596\n",
            "test avg loss :  0.1644502647898414\n",
            "num of correct samples : 42/66\n",
            "epoch : 8 ...\n",
            "train avg loss :  0.06436499620744046\n",
            "num of correct samples : 464/596\n",
            "test avg loss :  0.05339612157055826\n",
            "num of correct samples : 57/66\n",
            "epoch : 9 ...\n",
            "train avg loss :  0.0666737779724918\n",
            "num of correct samples : 455/596\n",
            "test avg loss :  0.06598200016852582\n",
            "num of correct samples : 51/66\n",
            "epoch : 10 ...\n",
            "train avg loss :  0.06617916720425522\n",
            "num of correct samples : 460/596\n",
            "test avg loss :  0.1430152812690446\n",
            "num of correct samples : 33/66\n",
            "epoch : 11 ...\n",
            "train avg loss :  0.07372139839317975\n",
            "num of correct samples : 431/596\n",
            "test avg loss :  0.06587493419647217\n",
            "num of correct samples : 53/66\n",
            "epoch : 12 ...\n",
            "train avg loss :  0.06530470158529762\n",
            "num of correct samples : 460/596\n",
            "test avg loss :  0.08589922614169843\n",
            "num of correct samples : 41/66\n",
            "epoch : 13 ...\n",
            "train avg loss :  0.06884350692665817\n",
            "num of correct samples : 453/596\n",
            "test avg loss :  0.06248861009424383\n",
            "num of correct samples : 51/66\n",
            "epoch : 14 ...\n",
            "train avg loss :  0.06766502696695743\n",
            "num of correct samples : 450/596\n",
            "test avg loss :  0.14576676262147498\n",
            "num of correct samples : 33/66\n",
            "epoch : 15 ...\n",
            "train avg loss :  0.06422469524929188\n",
            "num of correct samples : 463/596\n",
            "test avg loss :  0.08429697065642386\n",
            "num of correct samples : 44/66\n",
            "epoch : 16 ...\n",
            "train avg loss :  0.06724997339832703\n",
            "num of correct samples : 460/596\n",
            "test avg loss :  0.11939318590995038\n",
            "num of correct samples : 38/66\n",
            "epoch : 17 ...\n",
            "train avg loss :  0.06689068790050161\n",
            "num of correct samples : 455/596\n",
            "test avg loss :  0.08149072573040471\n",
            "num of correct samples : 40/66\n",
            "epoch : 18 ...\n",
            "train avg loss :  0.06406048395289671\n",
            "num of correct samples : 464/596\n",
            "test avg loss :  0.06134411331379053\n",
            "num of correct samples : 50/66\n",
            "epoch : 19 ...\n",
            "train avg loss :  0.06670716314907842\n",
            "num of correct samples : 458/596\n",
            "test avg loss :  0.10773104993682919\n",
            "num of correct samples : 39/66\n",
            "epoch : 20 ...\n",
            "train avg loss :  0.06330208470357344\n",
            "num of correct samples : 455/596\n",
            "test avg loss :  0.13877912238240242\n",
            "num of correct samples : 40/66\n",
            "epoch : 21 ...\n",
            "train avg loss :  0.06710112142382853\n",
            "num of correct samples : 454/596\n",
            "test avg loss :  0.12619894788120734\n",
            "num of correct samples : 34/66\n",
            "epoch : 22 ...\n",
            "train avg loss :  0.06035326661279537\n",
            "num of correct samples : 462/596\n",
            "test avg loss :  0.06405866236397714\n",
            "num of correct samples : 45/66\n",
            "epoch : 23 ...\n",
            "train avg loss :  0.06384061211907624\n",
            "num of correct samples : 469/596\n",
            "test avg loss :  0.11235323187076685\n",
            "num of correct samples : 33/66\n",
            "epoch : 24 ...\n",
            "train avg loss :  0.06415812251151808\n",
            "num of correct samples : 461/596\n",
            "test avg loss :  0.05480546436526559\n",
            "num of correct samples : 55/66\n",
            "epoch : 25 ...\n",
            "train avg loss :  0.059894984925553306\n",
            "num of correct samples : 469/596\n",
            "test avg loss :  0.06034814498641274\n",
            "num of correct samples : 53/66\n",
            "epoch : 26 ...\n",
            "train avg loss :  0.0633092661882007\n",
            "num of correct samples : 471/596\n",
            "test avg loss :  0.15622803489818718\n",
            "num of correct samples : 34/66\n",
            "epoch : 27 ...\n",
            "train avg loss :  0.06293195068536189\n",
            "num of correct samples : 475/596\n",
            "test avg loss :  0.09109932093909293\n",
            "num of correct samples : 33/66\n",
            "epoch : 28 ...\n",
            "train avg loss :  0.058586914042298426\n",
            "num of correct samples : 480/596\n",
            "test avg loss :  0.06230662379300955\n",
            "num of correct samples : 53/66\n",
            "epoch : 29 ...\n",
            "train avg loss :  0.0609848887078314\n",
            "num of correct samples : 469/596\n",
            "test avg loss :  0.061931703352566925\n",
            "num of correct samples : 54/66\n",
            "epoch : 30 ...\n",
            "train avg loss :  0.06158085169908184\n",
            "num of correct samples : 465/596\n",
            "test avg loss :  0.09974750966736765\n",
            "num of correct samples : 37/66\n",
            "epoch : 31 ...\n",
            "train avg loss :  0.05875854964224284\n",
            "num of correct samples : 471/596\n",
            "test avg loss :  0.05420347393462152\n",
            "num of correct samples : 55/66\n",
            "epoch : 32 ...\n",
            "train avg loss :  0.05944530655873702\n",
            "num of correct samples : 468/596\n",
            "test avg loss :  0.08227418724334601\n",
            "num of correct samples : 42/66\n",
            "epoch : 33 ...\n",
            "train avg loss :  0.06053376042802862\n",
            "num of correct samples : 474/596\n",
            "test avg loss :  0.07013834222699657\n",
            "num of correct samples : 50/66\n",
            "epoch : 34 ...\n",
            "train avg loss :  0.055040437978186064\n",
            "num of correct samples : 486/596\n",
            "test avg loss :  0.04561379032604622\n",
            "num of correct samples : 56/66\n",
            "epoch : 35 ...\n",
            "train avg loss :  0.05364360942836576\n",
            "num of correct samples : 488/596\n",
            "test avg loss :  0.05046157854976076\n",
            "num of correct samples : 56/66\n",
            "epoch : 36 ...\n",
            "train avg loss :  0.053213288495004576\n",
            "num of correct samples : 489/596\n",
            "test avg loss :  0.09490812344081474\n",
            "num of correct samples : 38/66\n",
            "epoch : 37 ...\n",
            "train avg loss :  0.053207285477211014\n",
            "num of correct samples : 490/596\n",
            "test avg loss :  0.061398195272142235\n",
            "num of correct samples : 48/66\n",
            "epoch : 38 ...\n",
            "train avg loss :  0.05403885027806231\n",
            "num of correct samples : 489/596\n",
            "test avg loss :  0.04757631254015547\n",
            "num of correct samples : 57/66\n",
            "epoch : 39 ...\n",
            "train avg loss :  0.05306851356321533\n",
            "num of correct samples : 488/596\n",
            "test avg loss :  0.13432446460832248\n",
            "num of correct samples : 36/66\n",
            "epoch : 40 ...\n",
            "train avg loss :  0.05090133702044919\n",
            "num of correct samples : 495/596\n",
            "test avg loss :  0.04918596441998626\n",
            "num of correct samples : 54/66\n",
            "epoch : 41 ...\n",
            "train avg loss :  0.05060054368070708\n",
            "num of correct samples : 488/596\n",
            "test avg loss :  0.05892572484233163\n",
            "num of correct samples : 52/66\n",
            "epoch : 42 ...\n",
            "train avg loss :  0.046243278547221385\n",
            "num of correct samples : 502/596\n",
            "test avg loss :  0.05395697791016463\n",
            "num of correct samples : 54/66\n",
            "epoch : 43 ...\n",
            "train avg loss :  0.04056803710858694\n",
            "num of correct samples : 517/596\n",
            "test avg loss :  0.04568928999431206\n",
            "num of correct samples : 55/66\n",
            "epoch : 44 ...\n",
            "train avg loss :  0.040491573050018125\n",
            "num of correct samples : 526/596\n",
            "test avg loss :  0.047194464414408714\n",
            "num of correct samples : 56/66\n",
            "epoch : 45 ...\n",
            "train avg loss :  0.03802787232518996\n",
            "num of correct samples : 517/596\n",
            "test avg loss :  0.04993498246326591\n",
            "num of correct samples : 54/66\n",
            "epoch : 46 ...\n",
            "train avg loss :  0.03659080586477414\n",
            "num of correct samples : 530/596\n",
            "test avg loss :  0.05028252777728168\n",
            "num of correct samples : 54/66\n",
            "epoch : 47 ...\n",
            "train avg loss :  0.03892998152331218\n",
            "num of correct samples : 519/596\n",
            "test avg loss :  0.050169864161448044\n",
            "num of correct samples : 54/66\n",
            "epoch : 48 ...\n",
            "train avg loss :  0.036333195927659136\n",
            "num of correct samples : 528/596\n",
            "test avg loss :  0.04946154310847774\n",
            "num of correct samples : 54/66\n",
            "epoch : 49 ...\n",
            "train avg loss :  0.03674645144367378\n",
            "num of correct samples : 534/596\n",
            "test avg loss :  0.04860066374142965\n",
            "num of correct samples : 56/66\n"
          ],
          "name": "stdout"
        }
      ]
    },
    {
      "cell_type": "code",
      "metadata": {
        "id": "iuRUgFfV76MN",
        "colab_type": "code",
        "colab": {
          "base_uri": "https://localhost:8080/",
          "height": 283
        },
        "outputId": "57f29974-533c-4e43-abdc-499c338e4af9"
      },
      "source": [
        "plt.plot(train_loss_track, 'b')\n",
        "plt.plot(test_loss_track, 'r')\n",
        "plt.xlabel('epochs')\n",
        "plt.ylabel('avg loss')\n",
        "plt.show()"
      ],
      "execution_count": 17,
      "outputs": [
        {
          "output_type": "display_data",
          "data": {
            "image/png": "[encoded data removed]",
            "text/plain": [
              "<Figure size 432x288 with 1 Axes>"
            ]
          },
          "metadata": {
            "tags": []
          }
        }
      ]
    },
    {
      "cell_type": "code",
      "metadata": {
        "id": "p90uK1CG79_k",
        "colab_type": "code",
        "colab": {
          "base_uri": "https://localhost:8080/",
          "height": 170
        },
        "outputId": "a1eb613f-cd99-4359-b77b-e7bcabbc8a5b"
      },
      "source": [
        "target_names = ['No TB', 'TB']\n",
        "print(classification_report(gt_labels, pred_labels, target_names=target_names))"
      ],
      "execution_count": 18,
      "outputs": [
        {
          "output_type": "stream",
          "text": [
            "              precision    recall  f1-score   support\n",
            "\n",
            "       No TB       0.90      0.79      0.84        33\n",
            "          TB       0.81      0.91      0.86        33\n",
            "\n",
            "    accuracy                           0.85        66\n",
            "   macro avg       0.85      0.85      0.85        66\n",
            "weighted avg       0.85      0.85      0.85        66\n",
            "\n"
          ],
          "name": "stdout"
        }
      ]
    },
    {
      "cell_type": "code",
      "metadata": {
        "id": "-YtXZEms9Kc1",
        "colab_type": "code",
        "colab": {}
      },
      "source": [
        "model_save_name = 'model_res_notpre.pt' \n",
        "path = F\"/content/drive/My Drive/{model_save_name}\" \n",
        "torch.save(Model.state_dict(), path)"
      ],
      "execution_count": 0,
      "outputs": []
    }
  ]
}